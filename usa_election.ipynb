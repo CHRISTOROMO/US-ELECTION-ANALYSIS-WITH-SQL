{
  "cells": [
    {
      "cell_type": "markdown",
      "metadata": {
        "id": "CYT7tVdCk2AE"
      },
      "source": [
        "# **US ELECTION ANALYSIS WITH SQL**"
      ]
    },
    {
      "cell_type": "markdown",
      "metadata": {
        "id": "8TW0GH6Ik2Ac"
      },
      "source": [
        "## 1.0 Business Understanding\n",
        "The task is to help a candidate to become US president. The winner of the election will be the candidate winning the most grand electors. \n",
        "Grand electors are attributed at the state level: in each of the 51 states, there is a given number of grand electors to win (roughly, but not exactly, proportional to the size of the state) and the presidential candidate receiving the most local votes wins ALL the Grand Electors in that state.\n",
        "Because the number of grand electors is not exactly proportional to the population, some states can be prioritized to increase the return on investment of the campaign. We assume here there are only 2 candidates, and no history (no trend of certain states to vote for a particular candidate or party). Hence, each vote is equally \"expensive\" to get, but some states grant more grand elector per capita.\n",
        "\n",
        "## 2.0 Data Understanding\n",
        "At this moment, the team has no plans to purchase external databases or spend money\n",
        "conducting surveys. This is because brute force computation of all possibilities to find the absolute optimum would be too computationally expensive.\n",
        "\n",
        "Below are two datasets that we shall be considered for research:\n",
        "* Grand electors by State. [Click Here](https://drive.google.com/a/moringaschool.com/file/d/1AuPlNXKjmEdRTLGqKbP-OP1XZ5UQPIPw/view?usp=sharing)\n",
        "* Population by State. [Click Here](https://drive.google.com/a/moringaschool.com/file/d/1VKt_hF2pRqPxcNb1DKotkVXWNd2HX_KL/view?usp=sharing)\n",
        "\n",
        "### 2.1 Exploring data\n",
        "The Population datasets we shall be using contains two columns, State and Population respectively with a total record of 57 states/ territories in the United State of America. The Grand Electors by state dataset contains two columns, State and GrandElectors with a record of 52 states/ territories in the United State of America.\n",
        "\n",
        "\n",
        "\n",
        "### 2.2 Verifying data quality\n",
        "We have noted from the datasets that states are not capitalized the same way in both tables (one is in uppercase letters, the other not), so you will need to convert all to uppercase, for instance’\n",
        "We also have no missing records on the data.\n",
        "\n",
        "## 3.0 Data Preparation\n",
        "* We shall be joining the two tables using the State field as the key and making a new table by the name “Election”. \n",
        "* The team wants to change the name of the \"District of Columbia\" state to its short version \"DC\", we shall be updating the records accordingly.\n",
        "* We shall create a new column by the name “Ratio” to  compute the ratio between the number of grand electors and the population.\n",
        "* We shall order the states by decreasing ratio of Grand Electors per capita. This will make our priority list.\n",
        "* We shall compute the running total of Grand Electors in that sorted list.\n",
        "* We shall also compute the half of the total of Grand Electors overall (in the whole country). This will enable us to determine the threshold we need to reach for winning the presidential election.\n",
        "* We shall filter our sorted list of states in order to keep only the (top) ones enabling us to reach the computed threshold. (the other states will be ignored)."
      ]
    },
    {
      "cell_type": "markdown",
      "metadata": {
        "id": "Fm8OU5w7mpN_"
      },
      "source": [
        "## **Connecting to our Database**"
      ]
    },
    {
      "cell_type": "code",
      "execution_count": 1,
      "metadata": {
        "colab": {
          "base_uri": "https://localhost:8080/",
          "height": 35
        },
        "id": "NMDYnlnjlsol",
        "outputId": "b5834d71-b6e1-48af-a5d9-49121a0cf5b4"
      },
      "outputs": [
        {
          "output_type": "execute_result",
          "data": {
            "text/plain": [
              "'Connected: @None'"
            ],
            "application/vnd.google.colaboratory.intrinsic+json": {
              "type": "string"
            }
          },
          "metadata": {},
          "execution_count": 1
        }
      ],
      "source": [
        "# We will first load the sql extension into our environment\n",
        "%load_ext sql\n",
        "\n",
        "# Then connect to our in memory sqlite database\n",
        "# NB: This database will cease to exist as soon as the database connection is closed. \n",
        "%sql sqlite://"
      ]
    },
    {
      "cell_type": "code",
      "execution_count": 2,
      "metadata": {
        "id": "PtxkHAzSneWj"
      },
      "outputs": [],
      "source": [
        "# Importing Pandas\n",
        "\n",
        "import pandas as pd"
      ]
    },
    {
      "cell_type": "markdown",
      "metadata": {
        "id": "SHDIyphtm5II"
      },
      "source": [
        "## **Loading our Datasets**"
      ]
    },
    {
      "cell_type": "code",
      "execution_count": 6,
      "metadata": {
        "colab": {
          "base_uri": "https://localhost:8080/",
          "height": 234
        },
        "id": "6T5rKEfvmes5",
        "outputId": "966b3460-c2e8-445f-a1b5-31b9b8af53f2"
      },
      "outputs": [
        {
          "output_type": "stream",
          "name": "stdout",
          "text": [
            " * sqlite://\n",
            "Done.\n",
            " * sqlite://\n",
            " * sqlite://\n",
            "Done.\n"
          ]
        },
        {
          "output_type": "execute_result",
          "data": {
            "text/plain": [
              "[('Alabama', 9),\n",
              " ('Alaska', 3),\n",
              " ('Arizona', 11),\n",
              " ('Arkansas', 6),\n",
              " ('California', 55)]"
            ],
            "text/html": [
              "<table>\n",
              "    <thead>\n",
              "        <tr>\n",
              "            <th>State</th>\n",
              "            <th>GrandElectors</th>\n",
              "        </tr>\n",
              "    </thead>\n",
              "    <tbody>\n",
              "        <tr>\n",
              "            <td>Alabama</td>\n",
              "            <td>9</td>\n",
              "        </tr>\n",
              "        <tr>\n",
              "            <td>Alaska</td>\n",
              "            <td>3</td>\n",
              "        </tr>\n",
              "        <tr>\n",
              "            <td>Arizona</td>\n",
              "            <td>11</td>\n",
              "        </tr>\n",
              "        <tr>\n",
              "            <td>Arkansas</td>\n",
              "            <td>6</td>\n",
              "        </tr>\n",
              "        <tr>\n",
              "            <td>California</td>\n",
              "            <td>55</td>\n",
              "        </tr>\n",
              "    </tbody>\n",
              "</table>"
            ]
          },
          "metadata": {},
          "execution_count": 6
        }
      ],
      "source": [
        "# Loading our GrandElectors_by_state dataset below\n",
        "\n",
        "with open('GrandElectors_by_state.csv','r') as f:\n",
        "    GrandElectors = pd.read_csv(f, index_col=0, encoding='utf-8')\n",
        "%sql DROP TABLE if EXISTS GrandElectors;\n",
        "%sql PERSIST GrandElectors;\n",
        "%sql SELECT * FROM GrandElectors LIMIT 5;"
      ]
    },
    {
      "cell_type": "code",
      "execution_count": 7,
      "metadata": {
        "colab": {
          "base_uri": "https://localhost:8080/",
          "height": 234
        },
        "id": "EAaL-YBGn9Lj",
        "outputId": "beaa4d14-11c5-4531-ddaa-13ced390af1a"
      },
      "outputs": [
        {
          "output_type": "stream",
          "name": "stdout",
          "text": [
            " * sqlite://\n",
            "Done.\n",
            " * sqlite://\n",
            " * sqlite://\n",
            "Done.\n"
          ]
        },
        {
          "output_type": "execute_result",
          "data": {
            "text/plain": [
              "[('CALIFORNIA', 39144818),\n",
              " ('TEXAS', 27469114),\n",
              " ('FLORIDA', 20271272),\n",
              " ('NEW YORK', 19795791),\n",
              " ('ILLINOIS', 12859995)]"
            ],
            "text/html": [
              "<table>\n",
              "    <thead>\n",
              "        <tr>\n",
              "            <th>State</th>\n",
              "            <th>Population</th>\n",
              "        </tr>\n",
              "    </thead>\n",
              "    <tbody>\n",
              "        <tr>\n",
              "            <td>CALIFORNIA</td>\n",
              "            <td>39144818</td>\n",
              "        </tr>\n",
              "        <tr>\n",
              "            <td>TEXAS</td>\n",
              "            <td>27469114</td>\n",
              "        </tr>\n",
              "        <tr>\n",
              "            <td>FLORIDA</td>\n",
              "            <td>20271272</td>\n",
              "        </tr>\n",
              "        <tr>\n",
              "            <td>NEW YORK</td>\n",
              "            <td>19795791</td>\n",
              "        </tr>\n",
              "        <tr>\n",
              "            <td>ILLINOIS</td>\n",
              "            <td>12859995</td>\n",
              "        </tr>\n",
              "    </tbody>\n",
              "</table>"
            ]
          },
          "metadata": {},
          "execution_count": 7
        }
      ],
      "source": [
        "# Loading our Population_by_state dataset below\n",
        "\n",
        "with open('Population_by_state.csv','r') as f:\n",
        "    Population = pd.read_csv(f, index_col=0, encoding='utf-8')\n",
        "%sql DROP TABLE if EXISTS Population;\n",
        "%sql PERSIST Population;\n",
        "\n",
        "\n",
        "%sql SELECT * FROM Population LIMIT 5;"
      ]
    },
    {
      "cell_type": "markdown",
      "source": [
        "### Cleaning the dataset"
      ],
      "metadata": {
        "id": "QKIvtCill8vq"
      }
    },
    {
      "cell_type": "code",
      "execution_count": 9,
      "metadata": {
        "id": "mnIkhvmjpken"
      },
      "outputs": [],
      "source": [
        "# Converting State to uppercase"
      ]
    },
    {
      "cell_type": "code",
      "execution_count": 10,
      "metadata": {
        "colab": {
          "base_uri": "https://localhost:8080/",
          "height": 199
        },
        "id": "4HyuQrlFp9qi",
        "outputId": "5746ab56-3b8f-4436-fb7c-3ff7a26eb03b"
      },
      "outputs": [
        {
          "output_type": "stream",
          "name": "stdout",
          "text": [
            " * sqlite://\n",
            "51 rows affected.\n",
            "Done.\n"
          ]
        },
        {
          "output_type": "execute_result",
          "data": {
            "text/plain": [
              "[('ALABAMA',), ('ALASKA',), ('ARIZONA',), ('ARKANSAS',), ('CALIFORNIA',)]"
            ],
            "text/html": [
              "<table>\n",
              "    <thead>\n",
              "        <tr>\n",
              "            <th>State</th>\n",
              "        </tr>\n",
              "    </thead>\n",
              "    <tbody>\n",
              "        <tr>\n",
              "            <td>ALABAMA</td>\n",
              "        </tr>\n",
              "        <tr>\n",
              "            <td>ALASKA</td>\n",
              "        </tr>\n",
              "        <tr>\n",
              "            <td>ARIZONA</td>\n",
              "        </tr>\n",
              "        <tr>\n",
              "            <td>ARKANSAS</td>\n",
              "        </tr>\n",
              "        <tr>\n",
              "            <td>CALIFORNIA</td>\n",
              "        </tr>\n",
              "    </tbody>\n",
              "</table>"
            ]
          },
          "metadata": {},
          "execution_count": 10
        }
      ],
      "source": [
        "# GrandElector Dataset\n",
        "\n",
        "%%sql \n",
        "UPDATE GrandElectors\n",
        "SET State = upper(State);\n",
        "\n",
        "SELECT State FROM GrandElectors LIMIT 5;"
      ]
    },
    {
      "cell_type": "code",
      "execution_count": 11,
      "metadata": {
        "colab": {
          "base_uri": "https://localhost:8080/",
          "height": 199
        },
        "id": "zZoX8WHGq5WT",
        "outputId": "ca3efaf3-1b3f-4565-a0a3-d23183514252"
      },
      "outputs": [
        {
          "output_type": "stream",
          "name": "stdout",
          "text": [
            " * sqlite://\n",
            "56 rows affected.\n",
            "Done.\n"
          ]
        },
        {
          "output_type": "execute_result",
          "data": {
            "text/plain": [
              "[('ALABAMA',), ('ALASKA',), ('AMERICAN SAMOA',), ('ARIZONA',), ('ARKANSAS',)]"
            ],
            "text/html": [
              "<table>\n",
              "    <thead>\n",
              "        <tr>\n",
              "            <th>State</th>\n",
              "        </tr>\n",
              "    </thead>\n",
              "    <tbody>\n",
              "        <tr>\n",
              "            <td>ALABAMA</td>\n",
              "        </tr>\n",
              "        <tr>\n",
              "            <td>ALASKA</td>\n",
              "        </tr>\n",
              "        <tr>\n",
              "            <td>AMERICAN SAMOA</td>\n",
              "        </tr>\n",
              "        <tr>\n",
              "            <td>ARIZONA</td>\n",
              "        </tr>\n",
              "        <tr>\n",
              "            <td>ARKANSAS</td>\n",
              "        </tr>\n",
              "    </tbody>\n",
              "</table>"
            ]
          },
          "metadata": {},
          "execution_count": 11
        }
      ],
      "source": [
        "# Population Dataset\n",
        "\n",
        "%%sql \n",
        "UPDATE Population\n",
        "SET State = upper(State);\n",
        "\n",
        "SELECT State FROM Population LIMIT 5;"
      ]
    },
    {
      "cell_type": "code",
      "execution_count": 12,
      "metadata": {
        "colab": {
          "base_uri": "https://localhost:8080/",
          "height": 199
        },
        "id": "jhmZpHpGoPTm",
        "outputId": "d029b715-81af-44b5-ed11-7b32e618ca53"
      },
      "outputs": [
        {
          "output_type": "stream",
          "name": "stdout",
          "text": [
            " * sqlite://\n",
            "Done.\n",
            "Done.\n"
          ]
        },
        {
          "output_type": "execute_result",
          "data": {
            "text/plain": [
              "[('CALIFORNIA', 39144818, 55),\n",
              " ('TEXAS', 27469114, 38),\n",
              " ('FLORIDA', 20271272, 29),\n",
              " ('NEW YORK', 19795791, 29),\n",
              " ('ILLINOIS', 12859995, 20)]"
            ],
            "text/html": [
              "<table>\n",
              "    <thead>\n",
              "        <tr>\n",
              "            <th>State</th>\n",
              "            <th>Population</th>\n",
              "            <th>GrandElectors</th>\n",
              "        </tr>\n",
              "    </thead>\n",
              "    <tbody>\n",
              "        <tr>\n",
              "            <td>CALIFORNIA</td>\n",
              "            <td>39144818</td>\n",
              "            <td>55</td>\n",
              "        </tr>\n",
              "        <tr>\n",
              "            <td>TEXAS</td>\n",
              "            <td>27469114</td>\n",
              "            <td>38</td>\n",
              "        </tr>\n",
              "        <tr>\n",
              "            <td>FLORIDA</td>\n",
              "            <td>20271272</td>\n",
              "            <td>29</td>\n",
              "        </tr>\n",
              "        <tr>\n",
              "            <td>NEW YORK</td>\n",
              "            <td>19795791</td>\n",
              "            <td>29</td>\n",
              "        </tr>\n",
              "        <tr>\n",
              "            <td>ILLINOIS</td>\n",
              "            <td>12859995</td>\n",
              "            <td>20</td>\n",
              "        </tr>\n",
              "    </tbody>\n",
              "</table>"
            ]
          },
          "metadata": {},
          "execution_count": 12
        }
      ],
      "source": [
        "# Joining the GrandElectors and Population datasets\n",
        "\n",
        "%%sql\n",
        "CREATE TABLE Election AS SELECT State, Population, GrandElectors \n",
        "FROM (SELECT * FROM Population INNER JOIN GrandElectors ON  Population.State = GrandElectors.State);\n",
        "\n",
        "SELECT * FROM Election LIMIT 5;"
      ]
    },
    {
      "cell_type": "code",
      "execution_count": 13,
      "metadata": {
        "colab": {
          "base_uri": "https://localhost:8080/",
          "height": 1000
        },
        "id": "U2GAJ3SYpMFA",
        "outputId": "dd00c4ea-68bb-4385-f1b0-cf8b72f7d574"
      },
      "outputs": [
        {
          "output_type": "stream",
          "name": "stdout",
          "text": [
            " * sqlite://\n",
            "1 rows affected.\n",
            "Done.\n"
          ]
        },
        {
          "output_type": "execute_result",
          "data": {
            "text/plain": [
              "[('CALIFORNIA', 39144818, 55),\n",
              " ('TEXAS', 27469114, 38),\n",
              " ('FLORIDA', 20271272, 29),\n",
              " ('NEW YORK', 19795791, 29),\n",
              " ('ILLINOIS', 12859995, 20),\n",
              " ('PENNSYLVANIA', 12802503, 20),\n",
              " ('OHIO', 11613423, 18),\n",
              " ('GEORGIA', 10214860, 16),\n",
              " ('NORTH CAROLINA', 10042802, 15),\n",
              " ('MICHIGAN', 9922576, 16),\n",
              " ('NEW JERSEY', 8958013, 14),\n",
              " ('VIRGINIA', 8382993, 13),\n",
              " ('WASHINGTON', 7170351, 12),\n",
              " ('ARIZONA', 6828065, 11),\n",
              " ('MASSACHUSETTS', 6794422, 11),\n",
              " ('INDIANA', 6619680, 11),\n",
              " ('TENNESSEE', 6600299, 11),\n",
              " ('MISSOURI', 6083672, 10),\n",
              " ('MARYLAND', 6006401, 10),\n",
              " ('WISCONSIN', 5771337, 10),\n",
              " ('MINNESOTA', 5489594, 10),\n",
              " ('COLORADO', 5456574, 9),\n",
              " ('SOUTH CAROLINA', 4896146, 9),\n",
              " ('ALABAMA', 4858979, 9),\n",
              " ('LOUISIANA', 4670724, 8),\n",
              " ('KENTUCKY', 4425092, 8),\n",
              " ('OREGON', 4028977, 7),\n",
              " ('OKLAHOMA', 3911338, 7),\n",
              " ('CONNECTICUT', 3590886, 7),\n",
              " ('IOWA', 3123899, 6),\n",
              " ('UTAH', 2995919, 6),\n",
              " ('MISSISSIPPI', 2992333, 6),\n",
              " ('ARKANSAS', 2978204, 6),\n",
              " ('KANSAS', 2911641, 6),\n",
              " ('NEVADA', 2890845, 6),\n",
              " ('NEW MEXICO', 2085109, 5),\n",
              " ('NEBRASKA', 1896190, 5),\n",
              " ('WEST VIRGINIA', 1844128, 5),\n",
              " ('IDAHO', 1654930, 4),\n",
              " ('HAWAII', 1431603, 4),\n",
              " ('NEW HAMPSHIRE', 1330608, 4),\n",
              " ('MAINE', 1329328, 4),\n",
              " ('RHODE ISLAND', 1056298, 4),\n",
              " ('MONTANA', 1032949, 3),\n",
              " ('DELAWARE', 945934, 3),\n",
              " ('SOUTH DAKOTA', 858469, 3),\n",
              " ('NORTH DAKOTA', 756927, 3),\n",
              " ('ALASKA', 738432, 3),\n",
              " ('DC', 672228, 3),\n",
              " ('VERMONT', 626042, 3),\n",
              " ('WYOMING', 586107, 3)]"
            ],
            "text/html": [
              "<table>\n",
              "    <thead>\n",
              "        <tr>\n",
              "            <th>State</th>\n",
              "            <th>Population</th>\n",
              "            <th>GrandElectors</th>\n",
              "        </tr>\n",
              "    </thead>\n",
              "    <tbody>\n",
              "        <tr>\n",
              "            <td>CALIFORNIA</td>\n",
              "            <td>39144818</td>\n",
              "            <td>55</td>\n",
              "        </tr>\n",
              "        <tr>\n",
              "            <td>TEXAS</td>\n",
              "            <td>27469114</td>\n",
              "            <td>38</td>\n",
              "        </tr>\n",
              "        <tr>\n",
              "            <td>FLORIDA</td>\n",
              "            <td>20271272</td>\n",
              "            <td>29</td>\n",
              "        </tr>\n",
              "        <tr>\n",
              "            <td>NEW YORK</td>\n",
              "            <td>19795791</td>\n",
              "            <td>29</td>\n",
              "        </tr>\n",
              "        <tr>\n",
              "            <td>ILLINOIS</td>\n",
              "            <td>12859995</td>\n",
              "            <td>20</td>\n",
              "        </tr>\n",
              "        <tr>\n",
              "            <td>PENNSYLVANIA</td>\n",
              "            <td>12802503</td>\n",
              "            <td>20</td>\n",
              "        </tr>\n",
              "        <tr>\n",
              "            <td>OHIO</td>\n",
              "            <td>11613423</td>\n",
              "            <td>18</td>\n",
              "        </tr>\n",
              "        <tr>\n",
              "            <td>GEORGIA</td>\n",
              "            <td>10214860</td>\n",
              "            <td>16</td>\n",
              "        </tr>\n",
              "        <tr>\n",
              "            <td>NORTH CAROLINA</td>\n",
              "            <td>10042802</td>\n",
              "            <td>15</td>\n",
              "        </tr>\n",
              "        <tr>\n",
              "            <td>MICHIGAN</td>\n",
              "            <td>9922576</td>\n",
              "            <td>16</td>\n",
              "        </tr>\n",
              "        <tr>\n",
              "            <td>NEW JERSEY</td>\n",
              "            <td>8958013</td>\n",
              "            <td>14</td>\n",
              "        </tr>\n",
              "        <tr>\n",
              "            <td>VIRGINIA</td>\n",
              "            <td>8382993</td>\n",
              "            <td>13</td>\n",
              "        </tr>\n",
              "        <tr>\n",
              "            <td>WASHINGTON</td>\n",
              "            <td>7170351</td>\n",
              "            <td>12</td>\n",
              "        </tr>\n",
              "        <tr>\n",
              "            <td>ARIZONA</td>\n",
              "            <td>6828065</td>\n",
              "            <td>11</td>\n",
              "        </tr>\n",
              "        <tr>\n",
              "            <td>MASSACHUSETTS</td>\n",
              "            <td>6794422</td>\n",
              "            <td>11</td>\n",
              "        </tr>\n",
              "        <tr>\n",
              "            <td>INDIANA</td>\n",
              "            <td>6619680</td>\n",
              "            <td>11</td>\n",
              "        </tr>\n",
              "        <tr>\n",
              "            <td>TENNESSEE</td>\n",
              "            <td>6600299</td>\n",
              "            <td>11</td>\n",
              "        </tr>\n",
              "        <tr>\n",
              "            <td>MISSOURI</td>\n",
              "            <td>6083672</td>\n",
              "            <td>10</td>\n",
              "        </tr>\n",
              "        <tr>\n",
              "            <td>MARYLAND</td>\n",
              "            <td>6006401</td>\n",
              "            <td>10</td>\n",
              "        </tr>\n",
              "        <tr>\n",
              "            <td>WISCONSIN</td>\n",
              "            <td>5771337</td>\n",
              "            <td>10</td>\n",
              "        </tr>\n",
              "        <tr>\n",
              "            <td>MINNESOTA</td>\n",
              "            <td>5489594</td>\n",
              "            <td>10</td>\n",
              "        </tr>\n",
              "        <tr>\n",
              "            <td>COLORADO</td>\n",
              "            <td>5456574</td>\n",
              "            <td>9</td>\n",
              "        </tr>\n",
              "        <tr>\n",
              "            <td>SOUTH CAROLINA</td>\n",
              "            <td>4896146</td>\n",
              "            <td>9</td>\n",
              "        </tr>\n",
              "        <tr>\n",
              "            <td>ALABAMA</td>\n",
              "            <td>4858979</td>\n",
              "            <td>9</td>\n",
              "        </tr>\n",
              "        <tr>\n",
              "            <td>LOUISIANA</td>\n",
              "            <td>4670724</td>\n",
              "            <td>8</td>\n",
              "        </tr>\n",
              "        <tr>\n",
              "            <td>KENTUCKY</td>\n",
              "            <td>4425092</td>\n",
              "            <td>8</td>\n",
              "        </tr>\n",
              "        <tr>\n",
              "            <td>OREGON</td>\n",
              "            <td>4028977</td>\n",
              "            <td>7</td>\n",
              "        </tr>\n",
              "        <tr>\n",
              "            <td>OKLAHOMA</td>\n",
              "            <td>3911338</td>\n",
              "            <td>7</td>\n",
              "        </tr>\n",
              "        <tr>\n",
              "            <td>CONNECTICUT</td>\n",
              "            <td>3590886</td>\n",
              "            <td>7</td>\n",
              "        </tr>\n",
              "        <tr>\n",
              "            <td>IOWA</td>\n",
              "            <td>3123899</td>\n",
              "            <td>6</td>\n",
              "        </tr>\n",
              "        <tr>\n",
              "            <td>UTAH</td>\n",
              "            <td>2995919</td>\n",
              "            <td>6</td>\n",
              "        </tr>\n",
              "        <tr>\n",
              "            <td>MISSISSIPPI</td>\n",
              "            <td>2992333</td>\n",
              "            <td>6</td>\n",
              "        </tr>\n",
              "        <tr>\n",
              "            <td>ARKANSAS</td>\n",
              "            <td>2978204</td>\n",
              "            <td>6</td>\n",
              "        </tr>\n",
              "        <tr>\n",
              "            <td>KANSAS</td>\n",
              "            <td>2911641</td>\n",
              "            <td>6</td>\n",
              "        </tr>\n",
              "        <tr>\n",
              "            <td>NEVADA</td>\n",
              "            <td>2890845</td>\n",
              "            <td>6</td>\n",
              "        </tr>\n",
              "        <tr>\n",
              "            <td>NEW MEXICO</td>\n",
              "            <td>2085109</td>\n",
              "            <td>5</td>\n",
              "        </tr>\n",
              "        <tr>\n",
              "            <td>NEBRASKA</td>\n",
              "            <td>1896190</td>\n",
              "            <td>5</td>\n",
              "        </tr>\n",
              "        <tr>\n",
              "            <td>WEST VIRGINIA</td>\n",
              "            <td>1844128</td>\n",
              "            <td>5</td>\n",
              "        </tr>\n",
              "        <tr>\n",
              "            <td>IDAHO</td>\n",
              "            <td>1654930</td>\n",
              "            <td>4</td>\n",
              "        </tr>\n",
              "        <tr>\n",
              "            <td>HAWAII</td>\n",
              "            <td>1431603</td>\n",
              "            <td>4</td>\n",
              "        </tr>\n",
              "        <tr>\n",
              "            <td>NEW HAMPSHIRE</td>\n",
              "            <td>1330608</td>\n",
              "            <td>4</td>\n",
              "        </tr>\n",
              "        <tr>\n",
              "            <td>MAINE</td>\n",
              "            <td>1329328</td>\n",
              "            <td>4</td>\n",
              "        </tr>\n",
              "        <tr>\n",
              "            <td>RHODE ISLAND</td>\n",
              "            <td>1056298</td>\n",
              "            <td>4</td>\n",
              "        </tr>\n",
              "        <tr>\n",
              "            <td>MONTANA</td>\n",
              "            <td>1032949</td>\n",
              "            <td>3</td>\n",
              "        </tr>\n",
              "        <tr>\n",
              "            <td>DELAWARE</td>\n",
              "            <td>945934</td>\n",
              "            <td>3</td>\n",
              "        </tr>\n",
              "        <tr>\n",
              "            <td>SOUTH DAKOTA</td>\n",
              "            <td>858469</td>\n",
              "            <td>3</td>\n",
              "        </tr>\n",
              "        <tr>\n",
              "            <td>NORTH DAKOTA</td>\n",
              "            <td>756927</td>\n",
              "            <td>3</td>\n",
              "        </tr>\n",
              "        <tr>\n",
              "            <td>ALASKA</td>\n",
              "            <td>738432</td>\n",
              "            <td>3</td>\n",
              "        </tr>\n",
              "        <tr>\n",
              "            <td>DC</td>\n",
              "            <td>672228</td>\n",
              "            <td>3</td>\n",
              "        </tr>\n",
              "        <tr>\n",
              "            <td>VERMONT</td>\n",
              "            <td>626042</td>\n",
              "            <td>3</td>\n",
              "        </tr>\n",
              "        <tr>\n",
              "            <td>WYOMING</td>\n",
              "            <td>586107</td>\n",
              "            <td>3</td>\n",
              "        </tr>\n",
              "    </tbody>\n",
              "</table>"
            ]
          },
          "metadata": {},
          "execution_count": 13
        }
      ],
      "source": [
        "# Changing the name of the \"District of Columbia\" state to its short version \"DC\"\n",
        "\n",
        "%%sql\n",
        "\n",
        "UPDATE Election\n",
        "SET State = 'DC'\n",
        "WHERE State = 'DISTRICT OF COLUMBIA';\n",
        "\n",
        "SELECT * FROM Election;"
      ]
    },
    {
      "cell_type": "code",
      "execution_count": 14,
      "metadata": {
        "colab": {
          "base_uri": "https://localhost:8080/"
        },
        "id": "nl3IN3zHu_U5",
        "outputId": "fae663c5-8ebc-4d2f-997f-b6f5f8188007"
      },
      "outputs": [
        {
          "output_type": "stream",
          "name": "stdout",
          "text": [
            " * sqlite://\n",
            "Done.\n"
          ]
        },
        {
          "output_type": "execute_result",
          "data": {
            "text/plain": [
              "[]"
            ]
          },
          "metadata": {},
          "execution_count": 14
        }
      ],
      "source": [
        "# We are computing the ratio between the number of grand electors and the population. \n",
        "\n",
        "# We shall create a new column with that ratio.\n",
        "\n",
        "%%sql\n",
        "\n",
        "ALTER TABLE Election \n",
        "ADD Ratio float(10,2)"
      ]
    },
    {
      "cell_type": "code",
      "execution_count": 15,
      "metadata": {
        "colab": {
          "base_uri": "https://localhost:8080/",
          "height": 182
        },
        "id": "NUnVbaYr5Wue",
        "outputId": "faf59d19-696c-4279-b387-a7bc550dab0a"
      },
      "outputs": [
        {
          "output_type": "stream",
          "name": "stdout",
          "text": [
            " * sqlite://\n",
            "Done.\n"
          ]
        },
        {
          "output_type": "execute_result",
          "data": {
            "text/plain": [
              "[('CALIFORNIA', 39144818, 55, None),\n",
              " ('TEXAS', 27469114, 38, None),\n",
              " ('FLORIDA', 20271272, 29, None),\n",
              " ('NEW YORK', 19795791, 29, None),\n",
              " ('ILLINOIS', 12859995, 20, None)]"
            ],
            "text/html": [
              "<table>\n",
              "    <thead>\n",
              "        <tr>\n",
              "            <th>State</th>\n",
              "            <th>Population</th>\n",
              "            <th>GrandElectors</th>\n",
              "            <th>Ratio</th>\n",
              "        </tr>\n",
              "    </thead>\n",
              "    <tbody>\n",
              "        <tr>\n",
              "            <td>CALIFORNIA</td>\n",
              "            <td>39144818</td>\n",
              "            <td>55</td>\n",
              "            <td>None</td>\n",
              "        </tr>\n",
              "        <tr>\n",
              "            <td>TEXAS</td>\n",
              "            <td>27469114</td>\n",
              "            <td>38</td>\n",
              "            <td>None</td>\n",
              "        </tr>\n",
              "        <tr>\n",
              "            <td>FLORIDA</td>\n",
              "            <td>20271272</td>\n",
              "            <td>29</td>\n",
              "            <td>None</td>\n",
              "        </tr>\n",
              "        <tr>\n",
              "            <td>NEW YORK</td>\n",
              "            <td>19795791</td>\n",
              "            <td>29</td>\n",
              "            <td>None</td>\n",
              "        </tr>\n",
              "        <tr>\n",
              "            <td>ILLINOIS</td>\n",
              "            <td>12859995</td>\n",
              "            <td>20</td>\n",
              "            <td>None</td>\n",
              "        </tr>\n",
              "    </tbody>\n",
              "</table>"
            ]
          },
          "metadata": {},
          "execution_count": 15
        }
      ],
      "source": [
        "# Checking the status of the new column\n",
        "%%sql \n",
        "SELECT * FROM Election LIMIT 5;"
      ]
    },
    {
      "cell_type": "code",
      "execution_count": 16,
      "metadata": {
        "colab": {
          "base_uri": "https://localhost:8080/",
          "height": 199
        },
        "id": "GXfa7g2S5q2v",
        "outputId": "95b3deef-1df7-4704-f40e-7012ff273366"
      },
      "outputs": [
        {
          "output_type": "stream",
          "name": "stdout",
          "text": [
            " * sqlite://\n",
            "51 rows affected.\n",
            "Done.\n"
          ]
        },
        {
          "output_type": "execute_result",
          "data": {
            "text/plain": [
              "[('CALIFORNIA', 39144818, 55, 711723.0),\n",
              " ('TEXAS', 27469114, 38, 722871.0),\n",
              " ('FLORIDA', 20271272, 29, 699009.0),\n",
              " ('NEW YORK', 19795791, 29, 682613.0),\n",
              " ('ILLINOIS', 12859995, 20, 642999.0)]"
            ],
            "text/html": [
              "<table>\n",
              "    <thead>\n",
              "        <tr>\n",
              "            <th>State</th>\n",
              "            <th>Population</th>\n",
              "            <th>GrandElectors</th>\n",
              "            <th>Ratio</th>\n",
              "        </tr>\n",
              "    </thead>\n",
              "    <tbody>\n",
              "        <tr>\n",
              "            <td>CALIFORNIA</td>\n",
              "            <td>39144818</td>\n",
              "            <td>55</td>\n",
              "            <td>711723.0</td>\n",
              "        </tr>\n",
              "        <tr>\n",
              "            <td>TEXAS</td>\n",
              "            <td>27469114</td>\n",
              "            <td>38</td>\n",
              "            <td>722871.0</td>\n",
              "        </tr>\n",
              "        <tr>\n",
              "            <td>FLORIDA</td>\n",
              "            <td>20271272</td>\n",
              "            <td>29</td>\n",
              "            <td>699009.0</td>\n",
              "        </tr>\n",
              "        <tr>\n",
              "            <td>NEW YORK</td>\n",
              "            <td>19795791</td>\n",
              "            <td>29</td>\n",
              "            <td>682613.0</td>\n",
              "        </tr>\n",
              "        <tr>\n",
              "            <td>ILLINOIS</td>\n",
              "            <td>12859995</td>\n",
              "            <td>20</td>\n",
              "            <td>642999.0</td>\n",
              "        </tr>\n",
              "    </tbody>\n",
              "</table>"
            ]
          },
          "metadata": {},
          "execution_count": 16
        }
      ],
      "source": [
        "# Updating the Ratio columns with the values\n",
        "\n",
        "%%sql\n",
        "UPDATE Election\n",
        "SET Ratio = Population/GrandElectors;\n",
        "\n",
        "SELECT * FROM Election LIMIT 5;"
      ]
    },
    {
      "cell_type": "code",
      "execution_count": 49,
      "metadata": {
        "colab": {
          "base_uri": "https://localhost:8080/"
        },
        "id": "Thdp5awb6lRK",
        "outputId": "5834a5df-299d-4ee5-91f4-df4d76205926"
      },
      "outputs": [
        {
          "output_type": "stream",
          "name": "stdout",
          "text": [
            " * sqlite://\n",
            "Done.\n",
            "Done.\n"
          ]
        },
        {
          "output_type": "execute_result",
          "data": {
            "text/plain": [
              "[]"
            ]
          },
          "metadata": {},
          "execution_count": 49
        }
      ],
      "source": [
        "# Ordering the states by decreasing ratio of Grand Electors per capita and creating a new table for it. \n",
        "# This will make our priority list.\n",
        "\n",
        "%%sql \n",
        "\n",
        "DROP TABLE if EXISTS Election_Sorted;\n",
        "\n",
        "CREATE TABLE Election_Sorted AS SELECT State, Population, GrandElectors, Ratio \n",
        "FROM (SELECT * FROM Election\n",
        "ORDER BY Ratio DESC);\n"
      ]
    },
    {
      "cell_type": "code",
      "execution_count": 51,
      "metadata": {
        "colab": {
          "base_uri": "https://localhost:8080/",
          "height": 96
        },
        "id": "xToRrYYV6ubb",
        "outputId": "67933e7f-66d9-4ed3-9be8-925af07ee36e"
      },
      "outputs": [
        {
          "output_type": "stream",
          "name": "stdout",
          "text": [
            " * sqlite://\n",
            "Done.\n"
          ]
        },
        {
          "output_type": "execute_result",
          "data": {
            "text/plain": [
              "[(538,)]"
            ],
            "text/html": [
              "<table>\n",
              "    <thead>\n",
              "        <tr>\n",
              "            <th>SUM(GrandElectors)</th>\n",
              "        </tr>\n",
              "    </thead>\n",
              "    <tbody>\n",
              "        <tr>\n",
              "            <td>538</td>\n",
              "        </tr>\n",
              "    </tbody>\n",
              "</table>"
            ]
          },
          "metadata": {},
          "execution_count": 51
        }
      ],
      "source": [
        "# Computing the running total of Grand Electors in that sorted list.\n",
        "%%sql\n",
        "\n",
        "SELECT SUM(GrandElectors) FROM Election_Sorted"
      ]
    },
    {
      "cell_type": "code",
      "execution_count": 52,
      "metadata": {
        "colab": {
          "base_uri": "https://localhost:8080/",
          "height": 96
        },
        "id": "nDLWkOrg8wt8",
        "outputId": "d5933d4d-268b-4a32-be6d-415a5b98328c"
      },
      "outputs": [
        {
          "output_type": "stream",
          "name": "stdout",
          "text": [
            " * sqlite://\n",
            "Done.\n"
          ]
        },
        {
          "output_type": "execute_result",
          "data": {
            "text/plain": [
              "[(269,)]"
            ],
            "text/html": [
              "<table>\n",
              "    <thead>\n",
              "        <tr>\n",
              "            <th>(SUM(GrandElectors)/2)</th>\n",
              "        </tr>\n",
              "    </thead>\n",
              "    <tbody>\n",
              "        <tr>\n",
              "            <td>269</td>\n",
              "        </tr>\n",
              "    </tbody>\n",
              "</table>"
            ]
          },
          "metadata": {},
          "execution_count": 52
        }
      ],
      "source": [
        "# Independently, computing the half of the total of Grand Electors overall (in the whole country):\n",
        "# This is the threshold we need to reach for winning the presidential election.\n",
        "\n",
        "%%sql \n",
        "SELECT (SUM(GrandElectors)/2) FROM Election_Sorted"
      ]
    },
    {
      "cell_type": "code",
      "execution_count": 130,
      "metadata": {
        "colab": {
          "base_uri": "https://localhost:8080/"
        },
        "id": "Mde0Jpyj-D7W",
        "outputId": "c1692525-8729-4428-efbc-30d54151269f"
      },
      "outputs": [
        {
          "output_type": "stream",
          "name": "stdout",
          "text": [
            " * sqlite://\n",
            "Done.\n",
            "Done.\n"
          ]
        },
        {
          "output_type": "execute_result",
          "data": {
            "text/plain": [
              "[]"
            ]
          },
          "metadata": {},
          "execution_count": 130
        }
      ],
      "source": [
        "# Filtering and creating a table of our sorted list of states in order to keep only the (top) ones enabling us to reach the computed threshold. (the other states can be ignored). \n",
        "\n",
        "%%sql\n",
        "\n",
        "DROP TABLE if EXISTS Election_State_Sorted;\n",
        "\n",
        "CREATE TABLE Election_State_Sorted AS SELECT State, GrandElectors, Ratio\n",
        "FROM Election_Sorted\n",
        "GROUP BY State, GrandElectors\n",
        "ORDER BY Ratio DESC, State DESC;"
      ]
    },
    {
      "cell_type": "code",
      "source": [
        "# Checking the table\n",
        "\n",
        "%%sql \n",
        "\n",
        "SELECT * FROM Election_State_Sorted;"
      ],
      "metadata": {
        "colab": {
          "base_uri": "https://localhost:8080/",
          "height": 1000
        },
        "id": "fbXJ1KtKEnCi",
        "outputId": "e90e6ead-70eb-4324-b294-596485114945"
      },
      "execution_count": 131,
      "outputs": [
        {
          "output_type": "stream",
          "name": "stdout",
          "text": [
            " * sqlite://\n",
            "Done.\n"
          ]
        },
        {
          "output_type": "execute_result",
          "data": {
            "text/plain": [
              "[('TEXAS', 38, 722871.0),\n",
              " ('CALIFORNIA', 55, 711723.0),\n",
              " ('FLORIDA', 29, 699009.0),\n",
              " ('NEW YORK', 29, 682613.0),\n",
              " ('NORTH CAROLINA', 15, 669520.0),\n",
              " ('OHIO', 18, 645190.0),\n",
              " ('VIRGINIA', 13, 644845.0),\n",
              " ('ILLINOIS', 20, 642999.0),\n",
              " ('PENNSYLVANIA', 20, 640125.0),\n",
              " ('NEW JERSEY', 14, 639858.0),\n",
              " ('GEORGIA', 16, 638428.0),\n",
              " ('ARIZONA', 11, 620733.0),\n",
              " ('MICHIGAN', 16, 620161.0),\n",
              " ('MASSACHUSETTS', 11, 617674.0),\n",
              " ('MISSOURI', 10, 608367.0),\n",
              " ('COLORADO', 9, 606286.0),\n",
              " ('INDIANA', 11, 601789.0),\n",
              " ('MARYLAND', 10, 600640.0),\n",
              " ('TENNESSEE', 11, 600027.0),\n",
              " ('WASHINGTON', 12, 597529.0),\n",
              " ('LOUISIANA', 8, 583840.0),\n",
              " ('WISCONSIN', 10, 577133.0),\n",
              " ('OREGON', 7, 575568.0),\n",
              " ('OKLAHOMA', 7, 558762.0),\n",
              " ('KENTUCKY', 8, 553136.0),\n",
              " ('MINNESOTA', 10, 548959.0),\n",
              " ('SOUTH CAROLINA', 9, 544016.0),\n",
              " ('ALABAMA', 9, 539886.0),\n",
              " ('IOWA', 6, 520649.0),\n",
              " ('CONNECTICUT', 7, 512983.0),\n",
              " ('UTAH', 6, 499319.0),\n",
              " ('MISSISSIPPI', 6, 498722.0),\n",
              " ('ARKANSAS', 6, 496367.0),\n",
              " ('KANSAS', 6, 485273.0),\n",
              " ('NEVADA', 6, 481807.0),\n",
              " ('NEW MEXICO', 5, 417021.0),\n",
              " ('IDAHO', 4, 413732.0),\n",
              " ('NEBRASKA', 5, 379238.0),\n",
              " ('WEST VIRGINIA', 5, 368825.0),\n",
              " ('HAWAII', 4, 357900.0),\n",
              " ('MONTANA', 3, 344316.0),\n",
              " ('NEW HAMPSHIRE', 4, 332652.0),\n",
              " ('MAINE', 4, 332332.0),\n",
              " ('DELAWARE', 3, 315311.0),\n",
              " ('SOUTH DAKOTA', 3, 286156.0),\n",
              " ('RHODE ISLAND', 4, 264074.0),\n",
              " ('NORTH DAKOTA', 3, 252309.0),\n",
              " ('ALASKA', 3, 246144.0),\n",
              " ('DC', 3, 224076.0),\n",
              " ('VERMONT', 3, 208680.0),\n",
              " ('WYOMING', 3, 195369.0)]"
            ],
            "text/html": [
              "<table>\n",
              "    <thead>\n",
              "        <tr>\n",
              "            <th>State</th>\n",
              "            <th>GrandElectors</th>\n",
              "            <th>Ratio</th>\n",
              "        </tr>\n",
              "    </thead>\n",
              "    <tbody>\n",
              "        <tr>\n",
              "            <td>TEXAS</td>\n",
              "            <td>38</td>\n",
              "            <td>722871.0</td>\n",
              "        </tr>\n",
              "        <tr>\n",
              "            <td>CALIFORNIA</td>\n",
              "            <td>55</td>\n",
              "            <td>711723.0</td>\n",
              "        </tr>\n",
              "        <tr>\n",
              "            <td>FLORIDA</td>\n",
              "            <td>29</td>\n",
              "            <td>699009.0</td>\n",
              "        </tr>\n",
              "        <tr>\n",
              "            <td>NEW YORK</td>\n",
              "            <td>29</td>\n",
              "            <td>682613.0</td>\n",
              "        </tr>\n",
              "        <tr>\n",
              "            <td>NORTH CAROLINA</td>\n",
              "            <td>15</td>\n",
              "            <td>669520.0</td>\n",
              "        </tr>\n",
              "        <tr>\n",
              "            <td>OHIO</td>\n",
              "            <td>18</td>\n",
              "            <td>645190.0</td>\n",
              "        </tr>\n",
              "        <tr>\n",
              "            <td>VIRGINIA</td>\n",
              "            <td>13</td>\n",
              "            <td>644845.0</td>\n",
              "        </tr>\n",
              "        <tr>\n",
              "            <td>ILLINOIS</td>\n",
              "            <td>20</td>\n",
              "            <td>642999.0</td>\n",
              "        </tr>\n",
              "        <tr>\n",
              "            <td>PENNSYLVANIA</td>\n",
              "            <td>20</td>\n",
              "            <td>640125.0</td>\n",
              "        </tr>\n",
              "        <tr>\n",
              "            <td>NEW JERSEY</td>\n",
              "            <td>14</td>\n",
              "            <td>639858.0</td>\n",
              "        </tr>\n",
              "        <tr>\n",
              "            <td>GEORGIA</td>\n",
              "            <td>16</td>\n",
              "            <td>638428.0</td>\n",
              "        </tr>\n",
              "        <tr>\n",
              "            <td>ARIZONA</td>\n",
              "            <td>11</td>\n",
              "            <td>620733.0</td>\n",
              "        </tr>\n",
              "        <tr>\n",
              "            <td>MICHIGAN</td>\n",
              "            <td>16</td>\n",
              "            <td>620161.0</td>\n",
              "        </tr>\n",
              "        <tr>\n",
              "            <td>MASSACHUSETTS</td>\n",
              "            <td>11</td>\n",
              "            <td>617674.0</td>\n",
              "        </tr>\n",
              "        <tr>\n",
              "            <td>MISSOURI</td>\n",
              "            <td>10</td>\n",
              "            <td>608367.0</td>\n",
              "        </tr>\n",
              "        <tr>\n",
              "            <td>COLORADO</td>\n",
              "            <td>9</td>\n",
              "            <td>606286.0</td>\n",
              "        </tr>\n",
              "        <tr>\n",
              "            <td>INDIANA</td>\n",
              "            <td>11</td>\n",
              "            <td>601789.0</td>\n",
              "        </tr>\n",
              "        <tr>\n",
              "            <td>MARYLAND</td>\n",
              "            <td>10</td>\n",
              "            <td>600640.0</td>\n",
              "        </tr>\n",
              "        <tr>\n",
              "            <td>TENNESSEE</td>\n",
              "            <td>11</td>\n",
              "            <td>600027.0</td>\n",
              "        </tr>\n",
              "        <tr>\n",
              "            <td>WASHINGTON</td>\n",
              "            <td>12</td>\n",
              "            <td>597529.0</td>\n",
              "        </tr>\n",
              "        <tr>\n",
              "            <td>LOUISIANA</td>\n",
              "            <td>8</td>\n",
              "            <td>583840.0</td>\n",
              "        </tr>\n",
              "        <tr>\n",
              "            <td>WISCONSIN</td>\n",
              "            <td>10</td>\n",
              "            <td>577133.0</td>\n",
              "        </tr>\n",
              "        <tr>\n",
              "            <td>OREGON</td>\n",
              "            <td>7</td>\n",
              "            <td>575568.0</td>\n",
              "        </tr>\n",
              "        <tr>\n",
              "            <td>OKLAHOMA</td>\n",
              "            <td>7</td>\n",
              "            <td>558762.0</td>\n",
              "        </tr>\n",
              "        <tr>\n",
              "            <td>KENTUCKY</td>\n",
              "            <td>8</td>\n",
              "            <td>553136.0</td>\n",
              "        </tr>\n",
              "        <tr>\n",
              "            <td>MINNESOTA</td>\n",
              "            <td>10</td>\n",
              "            <td>548959.0</td>\n",
              "        </tr>\n",
              "        <tr>\n",
              "            <td>SOUTH CAROLINA</td>\n",
              "            <td>9</td>\n",
              "            <td>544016.0</td>\n",
              "        </tr>\n",
              "        <tr>\n",
              "            <td>ALABAMA</td>\n",
              "            <td>9</td>\n",
              "            <td>539886.0</td>\n",
              "        </tr>\n",
              "        <tr>\n",
              "            <td>IOWA</td>\n",
              "            <td>6</td>\n",
              "            <td>520649.0</td>\n",
              "        </tr>\n",
              "        <tr>\n",
              "            <td>CONNECTICUT</td>\n",
              "            <td>7</td>\n",
              "            <td>512983.0</td>\n",
              "        </tr>\n",
              "        <tr>\n",
              "            <td>UTAH</td>\n",
              "            <td>6</td>\n",
              "            <td>499319.0</td>\n",
              "        </tr>\n",
              "        <tr>\n",
              "            <td>MISSISSIPPI</td>\n",
              "            <td>6</td>\n",
              "            <td>498722.0</td>\n",
              "        </tr>\n",
              "        <tr>\n",
              "            <td>ARKANSAS</td>\n",
              "            <td>6</td>\n",
              "            <td>496367.0</td>\n",
              "        </tr>\n",
              "        <tr>\n",
              "            <td>KANSAS</td>\n",
              "            <td>6</td>\n",
              "            <td>485273.0</td>\n",
              "        </tr>\n",
              "        <tr>\n",
              "            <td>NEVADA</td>\n",
              "            <td>6</td>\n",
              "            <td>481807.0</td>\n",
              "        </tr>\n",
              "        <tr>\n",
              "            <td>NEW MEXICO</td>\n",
              "            <td>5</td>\n",
              "            <td>417021.0</td>\n",
              "        </tr>\n",
              "        <tr>\n",
              "            <td>IDAHO</td>\n",
              "            <td>4</td>\n",
              "            <td>413732.0</td>\n",
              "        </tr>\n",
              "        <tr>\n",
              "            <td>NEBRASKA</td>\n",
              "            <td>5</td>\n",
              "            <td>379238.0</td>\n",
              "        </tr>\n",
              "        <tr>\n",
              "            <td>WEST VIRGINIA</td>\n",
              "            <td>5</td>\n",
              "            <td>368825.0</td>\n",
              "        </tr>\n",
              "        <tr>\n",
              "            <td>HAWAII</td>\n",
              "            <td>4</td>\n",
              "            <td>357900.0</td>\n",
              "        </tr>\n",
              "        <tr>\n",
              "            <td>MONTANA</td>\n",
              "            <td>3</td>\n",
              "            <td>344316.0</td>\n",
              "        </tr>\n",
              "        <tr>\n",
              "            <td>NEW HAMPSHIRE</td>\n",
              "            <td>4</td>\n",
              "            <td>332652.0</td>\n",
              "        </tr>\n",
              "        <tr>\n",
              "            <td>MAINE</td>\n",
              "            <td>4</td>\n",
              "            <td>332332.0</td>\n",
              "        </tr>\n",
              "        <tr>\n",
              "            <td>DELAWARE</td>\n",
              "            <td>3</td>\n",
              "            <td>315311.0</td>\n",
              "        </tr>\n",
              "        <tr>\n",
              "            <td>SOUTH DAKOTA</td>\n",
              "            <td>3</td>\n",
              "            <td>286156.0</td>\n",
              "        </tr>\n",
              "        <tr>\n",
              "            <td>RHODE ISLAND</td>\n",
              "            <td>4</td>\n",
              "            <td>264074.0</td>\n",
              "        </tr>\n",
              "        <tr>\n",
              "            <td>NORTH DAKOTA</td>\n",
              "            <td>3</td>\n",
              "            <td>252309.0</td>\n",
              "        </tr>\n",
              "        <tr>\n",
              "            <td>ALASKA</td>\n",
              "            <td>3</td>\n",
              "            <td>246144.0</td>\n",
              "        </tr>\n",
              "        <tr>\n",
              "            <td>DC</td>\n",
              "            <td>3</td>\n",
              "            <td>224076.0</td>\n",
              "        </tr>\n",
              "        <tr>\n",
              "            <td>VERMONT</td>\n",
              "            <td>3</td>\n",
              "            <td>208680.0</td>\n",
              "        </tr>\n",
              "        <tr>\n",
              "            <td>WYOMING</td>\n",
              "            <td>3</td>\n",
              "            <td>195369.0</td>\n",
              "        </tr>\n",
              "    </tbody>\n",
              "</table>"
            ]
          },
          "metadata": {},
          "execution_count": 131
        }
      ]
    },
    {
      "cell_type": "code",
      "source": [
        "# From the above information in that sorted order, we only 12 states to surpass 269 threshold and win the election"
      ],
      "metadata": {
        "id": "Zj5d_NENDsFi"
      },
      "execution_count": 135,
      "outputs": []
    },
    {
      "cell_type": "code",
      "source": [
        "# Selecting the top 12 states\n",
        "\n",
        "%%sql\n",
        "\n",
        "SELECT State, GrandElectors FROM Election_State_Sorted\n",
        "ORDER BY Ratio DESC LIMIT 12;"
      ],
      "metadata": {
        "colab": {
          "base_uri": "https://localhost:8080/",
          "height": 331
        },
        "id": "mxHHpIs0D7zp",
        "outputId": "0aa72987-c158-4e73-d8ee-16b59c7e6cd6"
      },
      "execution_count": 137,
      "outputs": [
        {
          "output_type": "stream",
          "name": "stdout",
          "text": [
            " * sqlite://\n",
            "Done.\n"
          ]
        },
        {
          "output_type": "execute_result",
          "data": {
            "text/plain": [
              "[('TEXAS', 38),\n",
              " ('CALIFORNIA', 55),\n",
              " ('FLORIDA', 29),\n",
              " ('NEW YORK', 29),\n",
              " ('NORTH CAROLINA', 15),\n",
              " ('OHIO', 18),\n",
              " ('VIRGINIA', 13),\n",
              " ('ILLINOIS', 20),\n",
              " ('PENNSYLVANIA', 20),\n",
              " ('NEW JERSEY', 14),\n",
              " ('GEORGIA', 16),\n",
              " ('ARIZONA', 11)]"
            ],
            "text/html": [
              "<table>\n",
              "    <thead>\n",
              "        <tr>\n",
              "            <th>State</th>\n",
              "            <th>GrandElectors</th>\n",
              "        </tr>\n",
              "    </thead>\n",
              "    <tbody>\n",
              "        <tr>\n",
              "            <td>TEXAS</td>\n",
              "            <td>38</td>\n",
              "        </tr>\n",
              "        <tr>\n",
              "            <td>CALIFORNIA</td>\n",
              "            <td>55</td>\n",
              "        </tr>\n",
              "        <tr>\n",
              "            <td>FLORIDA</td>\n",
              "            <td>29</td>\n",
              "        </tr>\n",
              "        <tr>\n",
              "            <td>NEW YORK</td>\n",
              "            <td>29</td>\n",
              "        </tr>\n",
              "        <tr>\n",
              "            <td>NORTH CAROLINA</td>\n",
              "            <td>15</td>\n",
              "        </tr>\n",
              "        <tr>\n",
              "            <td>OHIO</td>\n",
              "            <td>18</td>\n",
              "        </tr>\n",
              "        <tr>\n",
              "            <td>VIRGINIA</td>\n",
              "            <td>13</td>\n",
              "        </tr>\n",
              "        <tr>\n",
              "            <td>ILLINOIS</td>\n",
              "            <td>20</td>\n",
              "        </tr>\n",
              "        <tr>\n",
              "            <td>PENNSYLVANIA</td>\n",
              "            <td>20</td>\n",
              "        </tr>\n",
              "        <tr>\n",
              "            <td>NEW JERSEY</td>\n",
              "            <td>14</td>\n",
              "        </tr>\n",
              "        <tr>\n",
              "            <td>GEORGIA</td>\n",
              "            <td>16</td>\n",
              "        </tr>\n",
              "        <tr>\n",
              "            <td>ARIZONA</td>\n",
              "            <td>11</td>\n",
              "        </tr>\n",
              "    </tbody>\n",
              "</table>"
            ]
          },
          "metadata": {},
          "execution_count": 137
        }
      ]
    },
    {
      "cell_type": "markdown",
      "source": [
        "## **Conclusion**"
      ],
      "metadata": {
        "id": "yefbZwdUGKMu"
      }
    },
    {
      "cell_type": "markdown",
      "source": [
        "**Though 12 is quite a large number but with more information about the states we can narrow our result to less than that. This will enable us to determine the actual swing states. But based on population ratio to the Grand electors, these are thes best states to campaign.**"
      ],
      "metadata": {
        "id": "39lm8CogGBoN"
      }
    }
  ],
  "metadata": {
    "colab": {
      "collapsed_sections": [],
      "provenance": []
    },
    "kernelspec": {
      "display_name": "Python 3.9.7 ('base')",
      "language": "python",
      "name": "python3"
    },
    "language_info": {
      "codemirror_mode": {
        "name": "ipython",
        "version": 3
      },
      "file_extension": ".py",
      "mimetype": "text/x-python",
      "name": "python",
      "nbconvert_exporter": "python",
      "pygments_lexer": "ipython3",
      "version": "3.9.7"
    },
    "vscode": {
      "interpreter": {
        "hash": "dc07d24e2f18896857f0b2a651fe84ba40ce7b297e58d8804a308c8039f752a6"
      }
    }
  },
  "nbformat": 4,
  "nbformat_minor": 0
}